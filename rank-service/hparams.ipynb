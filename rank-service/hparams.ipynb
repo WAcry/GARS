{
 "cells": [
  {
   "cell_type": "markdown",
   "id": "71eebe3e",
   "metadata": {
    "pycharm": {
     "name": "#%% md\n"
    }
   },
   "source": [
    "# Define Features"
   ]
  },
  {
   "cell_type": "code",
   "execution_count": 1,
   "id": "cee47074",
   "metadata": {
    "pycharm": {
     "name": "#%%\n"
    }
   },
   "outputs": [],
   "source": [
    "import numpy as np\n",
    "import pandas as pd"
   ]
  },
  {
   "cell_type": "code",
   "execution_count": 2,
   "id": "d2803db9",
   "metadata": {
    "pycharm": {
     "name": "#%%\n"
    }
   },
   "outputs": [],
   "source": [
    "def get_item_numeric_features(df):\n",
    "    numeric_feature_names = [\n",
    "        'all_rating_min_max',\n",
    "        'members_min_max',\n",
    "        'aired_from_min_max',\n",
    "        'aired_to_min_max'\n",
    "    ]\n",
    "\n",
    "    feat_df = df[numeric_feature_names]\n",
    "    return feat_df.to_numpy()\n",
    "\n",
    "def get_user_numeric_features(df):\n",
    "    numeric_feature_names = [\n",
    "        'user_rating_ave_min_max',\n",
    "        'user_rating_std_min_max',\n",
    "        'user_aired_from_ave_min_max',\n",
    "        'user_aired_to_ave_min_max'\n",
    "    ]\n",
    "\n",
    "    feat_df = df[numeric_feature_names]\n",
    "    return feat_df.to_numpy()"
   ]
  },
  {
   "cell_type": "code",
   "execution_count": 3,
   "id": "1111c847",
   "metadata": {
    "pycharm": {
     "name": "#%%\n"
    }
   },
   "outputs": [],
   "source": [
    "def get_multihot_feature(df, feat_name):\n",
    "    feat_df = df[[feat_name]]\n",
    "    feat_vecs = feat_df.to_numpy()\n",
    "    feat_vec = np.apply_along_axis(lambda v: v[0], 1, feat_vecs)\n",
    "    return feat_vec"
   ]
  },
  {
   "cell_type": "code",
   "execution_count": 4,
   "id": "6fed1936",
   "metadata": {
    "pycharm": {
     "name": "#%%\n"
    }
   },
   "outputs": [],
   "source": [
    "def get_label(df):\n",
    "    label_df = df[['label']]\n",
    "    return label_df.to_numpy()"
   ]
  },
  {
   "cell_type": "code",
   "execution_count": 5,
   "id": "7d7eeaa6",
   "metadata": {
    "pycharm": {
     "name": "#%%\n"
    }
   },
   "outputs": [],
   "source": [
    "def get_all_features(df):\n",
    "    return (\n",
    "        get_multihot_feature(df, 'genres_multihot'),\n",
    "        get_multihot_feature(df, 'user_liked_genres_multihot'),\n",
    "        get_item_numeric_features(df),\n",
    "        get_user_numeric_features(df)\n",
    "    )"
   ]
  },
  {
   "cell_type": "markdown",
   "id": "5116dc6b",
   "metadata": {
    "pycharm": {
     "name": "#%% md\n"
    }
   },
   "source": [
    "# MLP"
   ]
  },
  {
   "cell_type": "markdown",
   "id": "b6dcd99b",
   "metadata": {
    "pycharm": {
     "name": "#%% md\n"
    }
   },
   "source": [
    "x1: item categorical feature         \n",
    "x2: user categorical feature        \n",
    "x3: item numeric features         \n",
    "x4: user numeric features"
   ]
  },
  {
   "cell_type": "code",
   "execution_count": 6,
   "id": "ea8509f7",
   "metadata": {
    "pycharm": {
     "name": "#%%\n"
    }
   },
   "outputs": [
    {
     "name": "stderr",
     "output_type": "stream",
     "text": [
      "2022-06-25 22:24:53.249015: W tensorflow/stream_executor/platform/default/dso_loader.cc:64] Could not load dynamic library 'libcudart.so.11.0'; dlerror: libcudart.so.11.0: cannot open shared object file: No such file or directory\n",
      "2022-06-25 22:24:53.249160: I tensorflow/stream_executor/cuda/cudart_stub.cc:29] Ignore above cudart dlerror if you do not have a GPU set up on your machine.\n"
     ]
    }
   ],
   "source": [
    "import tensorflow as tf\n",
    "import tensorflow.keras as keras"
   ]
  },
  {
   "cell_type": "code",
   "execution_count": 7,
   "id": "10e66146",
   "metadata": {
    "pycharm": {
     "name": "#%%\n"
    }
   },
   "outputs": [],
   "source": [
    "from tensorboard.plugins.hparams import api as hp"
   ]
  },
  {
   "cell_type": "code",
   "execution_count": 8,
   "id": "70651a39",
   "metadata": {
    "pycharm": {
     "name": "#%%\n"
    }
   },
   "outputs": [],
   "source": [
    "HP_LAYERS = hp.HParam(\"layers\", hp.IntInterval(2, 3))\n",
    "HP_LAYER_SIZE = hp.HParam(\"layer_size\", hp.Discrete([64, 128, 256]))\n",
    "HP_LEARN_RATE = hp.HParam(\"learn_rate\", hp.Discrete([0.001, 0.003, 0.01]))\n",
    "\n",
    "HPARAMS = [\n",
    "    HP_LAYERS,\n",
    "    HP_LAYER_SIZE,\n",
    "    HP_LEARN_RATE\n",
    "]\n",
    "\n",
    "METRICS = [\n",
    "    hp.Metric(\n",
    "        \"loss\",\n",
    "        group=\"train\",\n",
    "        display_name=\"loss (train)\",\n",
    "    ),\n",
    "    hp.Metric(\n",
    "        \"loss\",\n",
    "        group=\"validation\",\n",
    "        display_name=\"loss (val)\",\n",
    "    ),\n",
    "]"
   ]
  },
  {
   "cell_type": "code",
   "execution_count": 9,
   "id": "6857e6fb",
   "metadata": {
    "pycharm": {
     "name": "#%%\n"
    }
   },
   "outputs": [],
   "source": [
    "def build_model(x1_shape, x2_shape, x3_shape, x4_shape, hparams):\n",
    "    x1_input = keras.layers.Input(shape=(x1_shape,))\n",
    "    x2_input = keras.layers.Input(shape=(x2_shape,))\n",
    "    x3_input = keras.layers.Input(shape=(x3_shape,))\n",
    "    x4_input = keras.layers.Input(shape=(x4_shape,))\n",
    "\n",
    "    # compact embedding for x1 and x2\n",
    "    compact_x1 = keras.layers.Dense(10)(x1_input)\n",
    "    compact_x2 = keras.layers.Dense(10)(x2_input)\n",
    "\n",
    "    # concat all\n",
    "    merge = keras.layers.concatenate([compact_x1, compact_x2, x3_input, x4_input])\n",
    "\n",
    "    # hidden layers\n",
    "    h_input = merge\n",
    "    for _ in range(hparams[HP_LAYERS]):\n",
    "        h = keras.layers.Dense(hparams[HP_LAYER_SIZE], activation='relu')(h_input)\n",
    "        h_input = h\n",
    "\n",
    "    # output\n",
    "    output = keras.layers.Dense(1, activation='sigmoid')(h_input)\n",
    "\n",
    "    model = keras.models.Model(inputs=[x1_input, x2_input, x3_input, x4_input], outputs=output)\n",
    "\n",
    "    # optimizer\n",
    "    opt = keras.optimizers.Adam(learning_rate=hparams[HP_LEARN_RATE])\n",
    "    model.compile(\n",
    "        loss='binary_crossentropy',\n",
    "        optimizer=opt,\n",
    "        metrics=['accuracy']\n",
    "    )\n",
    "\n",
    "    return model"
   ]
  },
  {
   "cell_type": "markdown",
   "id": "a183b342",
   "metadata": {
    "pycharm": {
     "name": "#%% md\n"
    }
   },
   "source": [
    "# Load dataset"
   ]
  },
  {
   "cell_type": "code",
   "execution_count": 10,
   "id": "04cb1d90",
   "metadata": {
    "pycharm": {
     "name": "#%%\n"
    }
   },
   "outputs": [],
   "source": [
    "import os"
   ]
  },
  {
   "cell_type": "code",
   "execution_count": 11,
   "id": "eaa517d5",
   "metadata": {
    "pycharm": {
     "name": "#%%\n"
    }
   },
   "outputs": [],
   "source": [
    "def data_files():\n",
    "    filenames = []\n",
    "    for root, dirs, files in os.walk('/home/ziyuan/PycharmProjects/gars/dataset/dnn_feat_eng'):\n",
    "        for file in files:\n",
    "            if file.endswith('.parquet'):\n",
    "                filenames.append(os.path.join(root, file))\n",
    "\n",
    "    return filenames"
   ]
  },
  {
   "cell_type": "code",
   "execution_count": 12,
   "id": "4d2d7073",
   "metadata": {
    "pycharm": {
     "name": "#%%\n"
    }
   },
   "outputs": [],
   "source": [
    "filesnames = data_files()"
   ]
  },
  {
   "cell_type": "code",
   "execution_count": 13,
   "id": "b2462eb6",
   "metadata": {
    "pycharm": {
     "name": "#%%\n"
    }
   },
   "outputs": [],
   "source": [
    "# 模型调优总入口\n",
    "# 负责构建超参数组合，并且调用模型\n",
    "def test_params():\n",
    "    with tf.summary.create_file_writer('hparams').as_default():\n",
    "            hp.hparams_config(hparams=HPARAMS, metrics=METRICS)\n",
    "\n",
    "    model_id = 0\n",
    "    for layers in range(HP_LAYERS.domain.min_value, HP_LAYERS.domain.max_value + 1):\n",
    "        for size in HP_LAYER_SIZE.domain.values:\n",
    "            for rate in HP_LEARN_RATE.domain.values:\n",
    "                hparams = {\n",
    "                    HP_LAYERS: layers,\n",
    "                    HP_LAYER_SIZE: size,\n",
    "                    HP_LEARN_RATE: rate\n",
    "                }\n",
    "\n",
    "                run_model(model_id, hparams)\n",
    "                model_id += 1\n",
    "\n",
    "# 给定某一超参数组合，构建模型并训练\n",
    "def run_model(model_id, hparams):\n",
    "    # build model\n",
    "    model = build_model(43, 43, 4, 4, hparams)\n",
    "    print(f\"\\nmodel id: {model_id}:\")\n",
    "    print({h.name: hparams[h] for h in hparams})\n",
    "\n",
    "    # config hparam logs\n",
    "    log_filename = f\"{model_id}\"\n",
    "    for h in hparams:\n",
    "        log_filename += f\"_{h.name}-{hparams[h]}\"\n",
    "\n",
    "    log_dir = os.path.join(\"hparams\", log_filename)\n",
    "    tensorboard_callback = tf.keras.callbacks.TensorBoard(\n",
    "        log_dir = log_dir,\n",
    "        update_freq = 10,\n",
    "        profile_batch = 0\n",
    "    )\n",
    "    hparams_callback = hp.KerasCallback(log_dir, hparams)\n",
    "\n",
    "    # train model\n",
    "    filenames = data_files()\n",
    "    for filename in filenames[:1]:\n",
    "        df = pd.read_parquet(filename)\n",
    "\n",
    "        train_df = df\n",
    "\n",
    "        # get features\n",
    "        train_x1, train_x2, train_x3, train_x4 = get_all_features(train_df)\n",
    "\n",
    "        # get label\n",
    "        train_y = get_label(train_df)\n",
    "\n",
    "        model.fit(\n",
    "            [train_x1, train_x2, train_x3, train_x4],\n",
    "            train_y,\n",
    "            validation_split=0.2,\n",
    "            batch_size=16,\n",
    "            epochs=4,\n",
    "            callbacks=[tensorboard_callback, hparams_callback]\n",
    "        )"
   ]
  },
  {
   "cell_type": "code",
   "execution_count": 14,
   "id": "40c7c4cd",
   "metadata": {
    "scrolled": false,
    "pycharm": {
     "name": "#%%\n"
    }
   },
   "outputs": [
    {
     "name": "stderr",
     "output_type": "stream",
     "text": [
      "2022-06-25 22:24:59.720469: I tensorflow/stream_executor/cuda/cuda_gpu_executor.cc:923] could not open file to read NUMA node: /sys/bus/pci/devices/0000:01:00.0/numa_node\n",
      "Your kernel may have been built without NUMA support.\n",
      "2022-06-25 22:24:59.720626: W tensorflow/stream_executor/platform/default/dso_loader.cc:64] Could not load dynamic library 'libcudart.so.11.0'; dlerror: libcudart.so.11.0: cannot open shared object file: No such file or directory\n",
      "2022-06-25 22:24:59.720688: W tensorflow/stream_executor/platform/default/dso_loader.cc:64] Could not load dynamic library 'libcublas.so.11'; dlerror: libcublas.so.11: cannot open shared object file: No such file or directory\n",
      "2022-06-25 22:24:59.720738: W tensorflow/stream_executor/platform/default/dso_loader.cc:64] Could not load dynamic library 'libcublasLt.so.11'; dlerror: libcublasLt.so.11: cannot open shared object file: No such file or directory\n",
      "2022-06-25 22:24:59.720777: W tensorflow/stream_executor/platform/default/dso_loader.cc:64] Could not load dynamic library 'libcufft.so.10'; dlerror: libcufft.so.10: cannot open shared object file: No such file or directory\n",
      "2022-06-25 22:24:59.720814: W tensorflow/stream_executor/platform/default/dso_loader.cc:64] Could not load dynamic library 'libcurand.so.10'; dlerror: libcurand.so.10: cannot open shared object file: No such file or directory\n",
      "2022-06-25 22:24:59.720851: W tensorflow/stream_executor/platform/default/dso_loader.cc:64] Could not load dynamic library 'libcusolver.so.11'; dlerror: libcusolver.so.11: cannot open shared object file: No such file or directory\n",
      "2022-06-25 22:24:59.720889: W tensorflow/stream_executor/platform/default/dso_loader.cc:64] Could not load dynamic library 'libcusparse.so.11'; dlerror: libcusparse.so.11: cannot open shared object file: No such file or directory\n",
      "2022-06-25 22:24:59.720928: W tensorflow/stream_executor/platform/default/dso_loader.cc:64] Could not load dynamic library 'libcudnn.so.8'; dlerror: libcudnn.so.8: cannot open shared object file: No such file or directory\n",
      "2022-06-25 22:24:59.720936: W tensorflow/core/common_runtime/gpu/gpu_device.cc:1835] Cannot dlopen some GPU libraries. Please make sure the missing libraries mentioned above are installed properly if you would like to use GPU. Follow the guide at https://www.tensorflow.org/install/gpu for how to download and setup the required libraries for your platform.\n",
      "Skipping registering GPU devices...\n",
      "2022-06-25 22:24:59.721652: I tensorflow/core/platform/cpu_feature_guard.cc:142] This TensorFlow binary is optimized with oneAPI Deep Neural Network Library (oneDNN) to use the following CPU instructions in performance-critical operations:  AVX2 AVX512F FMA\n",
      "To enable them in other operations, rebuild TensorFlow with the appropriate compiler flags.\n"
     ]
    },
    {
     "name": "stdout",
     "output_type": "stream",
     "text": [
      "\n",
      "model id: 0:\n",
      "{'layers': 2, 'layer_size': 64, 'learn_rate': 0.001}\n"
     ]
    },
    {
     "name": "stderr",
     "output_type": "stream",
     "text": [
      "2022-06-25 22:25:00.590114: I tensorflow/compiler/mlir/mlir_graph_optimization_pass.cc:185] None of the MLIR Optimization Passes are enabled (registered 2)\n"
     ]
    },
    {
     "name": "stdout",
     "output_type": "stream",
     "text": [
      "Epoch 1/4\n",
      "1759/1759 [==============================] - 3s 1ms/step - loss: 0.5802 - accuracy: 0.6976 - val_loss: 0.5867 - val_accuracy: 0.6886\n",
      "Epoch 2/4\n",
      "1759/1759 [==============================] - 2s 1ms/step - loss: 0.5388 - accuracy: 0.7245 - val_loss: 0.5721 - val_accuracy: 0.7065\n",
      "Epoch 3/4\n",
      "1759/1759 [==============================] - 2s 1ms/step - loss: 0.5213 - accuracy: 0.7399 - val_loss: 0.5876 - val_accuracy: 0.6951\n",
      "Epoch 4/4\n",
      "1759/1759 [==============================] - 2s 1ms/step - loss: 0.5116 - accuracy: 0.7483 - val_loss: 0.5729 - val_accuracy: 0.7119\n",
      "\n",
      "model id: 1:\n",
      "{'layers': 2, 'layer_size': 64, 'learn_rate': 0.003}\n",
      "Epoch 1/4\n",
      "1759/1759 [==============================] - 2s 1ms/step - loss: 0.5746 - accuracy: 0.7003 - val_loss: 0.5942 - val_accuracy: 0.6855\n",
      "Epoch 2/4\n",
      "1759/1759 [==============================] - 2s 1ms/step - loss: 0.5384 - accuracy: 0.7294 - val_loss: 0.5657 - val_accuracy: 0.7156\n",
      "Epoch 3/4\n",
      "1759/1759 [==============================] - 2s 1ms/step - loss: 0.5240 - accuracy: 0.7415 - val_loss: 0.6007 - val_accuracy: 0.6804\n",
      "Epoch 4/4\n",
      "1759/1759 [==============================] - 2s 1ms/step - loss: 0.5184 - accuracy: 0.7456 - val_loss: 0.5694 - val_accuracy: 0.7116\n",
      "\n",
      "model id: 2:\n",
      "{'layers': 2, 'layer_size': 64, 'learn_rate': 0.01}\n",
      "Epoch 1/4\n",
      "1759/1759 [==============================] - 2s 1ms/step - loss: 0.5909 - accuracy: 0.6862 - val_loss: 0.6214 - val_accuracy: 0.6481\n",
      "Epoch 2/4\n",
      "1759/1759 [==============================] - 2s 1ms/step - loss: 0.5552 - accuracy: 0.7146 - val_loss: 0.5820 - val_accuracy: 0.6953\n",
      "Epoch 3/4\n",
      "1759/1759 [==============================] - 2s 1ms/step - loss: 0.5381 - accuracy: 0.7306 - val_loss: 0.5991 - val_accuracy: 0.6811\n",
      "Epoch 4/4\n",
      "1759/1759 [==============================] - 2s 1ms/step - loss: 0.5323 - accuracy: 0.7366 - val_loss: 0.5808 - val_accuracy: 0.7042\n",
      "\n",
      "model id: 3:\n",
      "{'layers': 2, 'layer_size': 128, 'learn_rate': 0.001}\n",
      "Epoch 1/4\n",
      "1759/1759 [==============================] - 2s 1ms/step - loss: 0.5768 - accuracy: 0.6996 - val_loss: 0.5770 - val_accuracy: 0.7052\n",
      "Epoch 2/4\n",
      "1759/1759 [==============================] - 2s 1ms/step - loss: 0.5350 - accuracy: 0.7322 - val_loss: 0.6070 - val_accuracy: 0.6740\n",
      "Epoch 3/4\n",
      "1759/1759 [==============================] - 2s 1ms/step - loss: 0.5206 - accuracy: 0.7406 - val_loss: 0.5606 - val_accuracy: 0.7182\n",
      "Epoch 4/4\n",
      "1759/1759 [==============================] - 2s 1ms/step - loss: 0.5116 - accuracy: 0.7481 - val_loss: 0.5705 - val_accuracy: 0.7189\n",
      "\n",
      "model id: 4:\n",
      "{'layers': 2, 'layer_size': 128, 'learn_rate': 0.003}\n",
      "Epoch 1/4\n",
      "1759/1759 [==============================] - 2s 1ms/step - loss: 0.5768 - accuracy: 0.6992 - val_loss: 0.5757 - val_accuracy: 0.7068\n",
      "Epoch 2/4\n",
      "1759/1759 [==============================] - 2s 1ms/step - loss: 0.5387 - accuracy: 0.7288 - val_loss: 0.5693 - val_accuracy: 0.7102\n",
      "Epoch 3/4\n",
      "1759/1759 [==============================] - 2s 1ms/step - loss: 0.5250 - accuracy: 0.7391 - val_loss: 0.5617 - val_accuracy: 0.7183\n",
      "Epoch 4/4\n",
      "1759/1759 [==============================] - 2s 1ms/step - loss: 0.5187 - accuracy: 0.7436 - val_loss: 0.5723 - val_accuracy: 0.7175\n",
      "\n",
      "model id: 5:\n",
      "{'layers': 2, 'layer_size': 128, 'learn_rate': 0.01}\n",
      "Epoch 1/4\n",
      "1759/1759 [==============================] - 3s 1ms/step - loss: 0.5910 - accuracy: 0.6902 - val_loss: 0.5916 - val_accuracy: 0.6900\n",
      "Epoch 2/4\n",
      "1759/1759 [==============================] - 2s 1ms/step - loss: 0.5540 - accuracy: 0.7208 - val_loss: 0.5774 - val_accuracy: 0.7028\n",
      "Epoch 3/4\n",
      "1759/1759 [==============================] - 2s 1ms/step - loss: 0.5416 - accuracy: 0.7267 - val_loss: 0.5840 - val_accuracy: 0.6973\n",
      "Epoch 4/4\n",
      "1759/1759 [==============================] - 2s 1ms/step - loss: 0.5364 - accuracy: 0.7341 - val_loss: 0.5738 - val_accuracy: 0.6967\n",
      "\n",
      "model id: 6:\n",
      "{'layers': 2, 'layer_size': 256, 'learn_rate': 0.001}\n",
      "Epoch 1/4\n",
      "1759/1759 [==============================] - 3s 2ms/step - loss: 0.5724 - accuracy: 0.7030 - val_loss: 0.5798 - val_accuracy: 0.6960\n",
      "Epoch 2/4\n",
      "1759/1759 [==============================] - 3s 1ms/step - loss: 0.5321 - accuracy: 0.7359 - val_loss: 0.5656 - val_accuracy: 0.7145\n",
      "Epoch 3/4\n",
      "1759/1759 [==============================] - 2s 1ms/step - loss: 0.5178 - accuracy: 0.7446 - val_loss: 0.5750 - val_accuracy: 0.7111\n",
      "Epoch 4/4\n",
      "1759/1759 [==============================] - 2s 1ms/step - loss: 0.5117 - accuracy: 0.7483 - val_loss: 0.5706 - val_accuracy: 0.7106\n",
      "\n",
      "model id: 7:\n",
      "{'layers': 2, 'layer_size': 256, 'learn_rate': 0.003}\n",
      "Epoch 1/4\n",
      "1759/1759 [==============================] - 3s 1ms/step - loss: 0.5823 - accuracy: 0.6930 - val_loss: 0.5815 - val_accuracy: 0.6984\n",
      "Epoch 2/4\n",
      "1759/1759 [==============================] - 3s 2ms/step - loss: 0.5440 - accuracy: 0.7261 - val_loss: 0.5713 - val_accuracy: 0.7113\n",
      "Epoch 3/4\n",
      "1759/1759 [==============================] - 2s 1ms/step - loss: 0.5264 - accuracy: 0.7377 - val_loss: 0.5826 - val_accuracy: 0.7030\n",
      "Epoch 4/4\n",
      "1759/1759 [==============================] - 3s 1ms/step - loss: 0.5210 - accuracy: 0.7432 - val_loss: 0.5719 - val_accuracy: 0.7159\n",
      "\n",
      "model id: 8:\n",
      "{'layers': 2, 'layer_size': 256, 'learn_rate': 0.01}\n",
      "Epoch 1/4\n",
      "1759/1759 [==============================] - 3s 1ms/step - loss: 0.5883 - accuracy: 0.6910 - val_loss: 0.5922 - val_accuracy: 0.6953\n",
      "Epoch 2/4\n",
      "1759/1759 [==============================] - 3s 1ms/step - loss: 0.5549 - accuracy: 0.7182 - val_loss: 0.5865 - val_accuracy: 0.6981\n",
      "Epoch 3/4\n",
      "1759/1759 [==============================] - 3s 1ms/step - loss: 0.5398 - accuracy: 0.7295 - val_loss: 0.5651 - val_accuracy: 0.7213\n",
      "Epoch 4/4\n",
      "1759/1759 [==============================] - 3s 2ms/step - loss: 0.5334 - accuracy: 0.7351 - val_loss: 0.5668 - val_accuracy: 0.7197\n",
      "\n",
      "model id: 9:\n",
      "{'layers': 3, 'layer_size': 64, 'learn_rate': 0.001}\n",
      "Epoch 1/4\n",
      "1759/1759 [==============================] - 3s 1ms/step - loss: 0.5764 - accuracy: 0.6986 - val_loss: 0.6017 - val_accuracy: 0.6777\n",
      "Epoch 2/4\n",
      "1759/1759 [==============================] - 2s 1ms/step - loss: 0.5375 - accuracy: 0.7282 - val_loss: 0.5772 - val_accuracy: 0.7048\n",
      "Epoch 3/4\n",
      "1759/1759 [==============================] - 2s 1ms/step - loss: 0.5221 - accuracy: 0.7384 - val_loss: 0.5749 - val_accuracy: 0.7052\n",
      "Epoch 4/4\n",
      "1759/1759 [==============================] - 2s 1ms/step - loss: 0.5125 - accuracy: 0.7480 - val_loss: 0.5736 - val_accuracy: 0.7177\n",
      "\n",
      "model id: 10:\n",
      "{'layers': 3, 'layer_size': 64, 'learn_rate': 0.003}\n",
      "Epoch 1/4\n",
      "1759/1759 [==============================] - 3s 1ms/step - loss: 0.5796 - accuracy: 0.6962 - val_loss: 0.6057 - val_accuracy: 0.6856\n",
      "Epoch 2/4\n",
      "1759/1759 [==============================] - 2s 1ms/step - loss: 0.5372 - accuracy: 0.7334 - val_loss: 0.5698 - val_accuracy: 0.7166\n",
      "Epoch 3/4\n",
      "1759/1759 [==============================] - 2s 1ms/step - loss: 0.5238 - accuracy: 0.7430 - val_loss: 0.5650 - val_accuracy: 0.7187\n",
      "Epoch 4/4\n",
      "1759/1759 [==============================] - 2s 1ms/step - loss: 0.5193 - accuracy: 0.7459 - val_loss: 0.5650 - val_accuracy: 0.7202\n",
      "\n",
      "model id: 11:\n",
      "{'layers': 3, 'layer_size': 64, 'learn_rate': 0.01}\n",
      "Epoch 1/4\n",
      "1759/1759 [==============================] - 3s 1ms/step - loss: 0.5907 - accuracy: 0.6904 - val_loss: 0.5909 - val_accuracy: 0.6930\n",
      "Epoch 2/4\n",
      "1759/1759 [==============================] - 2s 1ms/step - loss: 0.5604 - accuracy: 0.7142 - val_loss: 0.5780 - val_accuracy: 0.7045\n",
      "Epoch 3/4\n",
      "1759/1759 [==============================] - 2s 1ms/step - loss: 0.5455 - accuracy: 0.7207 - val_loss: 0.5816 - val_accuracy: 0.7011\n",
      "Epoch 4/4\n",
      "1759/1759 [==============================] - 2s 1ms/step - loss: 0.5361 - accuracy: 0.7303 - val_loss: 0.5709 - val_accuracy: 0.7140\n",
      "\n",
      "model id: 12:\n",
      "{'layers': 3, 'layer_size': 128, 'learn_rate': 0.001}\n",
      "Epoch 1/4\n",
      "1759/1759 [==============================] - 3s 1ms/step - loss: 0.5770 - accuracy: 0.6998 - val_loss: 0.5852 - val_accuracy: 0.6988\n",
      "Epoch 2/4\n",
      "1759/1759 [==============================] - 2s 1ms/step - loss: 0.5353 - accuracy: 0.7310 - val_loss: 0.5768 - val_accuracy: 0.7089\n",
      "Epoch 3/4\n",
      "1759/1759 [==============================] - 2s 1ms/step - loss: 0.5206 - accuracy: 0.7402 - val_loss: 0.5745 - val_accuracy: 0.7011\n",
      "Epoch 4/4\n",
      "1759/1759 [==============================] - 2s 1ms/step - loss: 0.5122 - accuracy: 0.7476 - val_loss: 0.5559 - val_accuracy: 0.7197\n",
      "\n",
      "model id: 13:\n",
      "{'layers': 3, 'layer_size': 128, 'learn_rate': 0.003}\n",
      "Epoch 1/4\n",
      "1759/1759 [==============================] - 3s 1ms/step - loss: 0.5869 - accuracy: 0.6923 - val_loss: 0.6167 - val_accuracy: 0.6585\n",
      "Epoch 2/4\n",
      "1759/1759 [==============================] - 2s 1ms/step - loss: 0.5431 - accuracy: 0.7238 - val_loss: 0.5957 - val_accuracy: 0.6829\n",
      "Epoch 3/4\n",
      "1759/1759 [==============================] - 2s 1ms/step - loss: 0.5282 - accuracy: 0.7389 - val_loss: 0.5629 - val_accuracy: 0.7105\n",
      "Epoch 4/4\n",
      "1759/1759 [==============================] - 2s 1ms/step - loss: 0.5221 - accuracy: 0.7405 - val_loss: 0.5843 - val_accuracy: 0.7156\n",
      "\n",
      "model id: 14:\n",
      "{'layers': 3, 'layer_size': 128, 'learn_rate': 0.01}\n",
      "Epoch 1/4\n",
      "1759/1759 [==============================] - 3s 1ms/step - loss: 0.5991 - accuracy: 0.6810 - val_loss: 0.5933 - val_accuracy: 0.6815\n",
      "Epoch 2/4\n",
      "1759/1759 [==============================] - 2s 1ms/step - loss: 0.5586 - accuracy: 0.7173 - val_loss: 0.5820 - val_accuracy: 0.7038\n",
      "Epoch 3/4\n",
      "1759/1759 [==============================] - 2s 1ms/step - loss: 0.5439 - accuracy: 0.7270 - val_loss: 0.5930 - val_accuracy: 0.6971\n",
      "Epoch 4/4\n",
      "1759/1759 [==============================] - 2s 1ms/step - loss: 0.5355 - accuracy: 0.7368 - val_loss: 0.5595 - val_accuracy: 0.7214\n",
      "\n",
      "model id: 15:\n",
      "{'layers': 3, 'layer_size': 256, 'learn_rate': 0.001}\n",
      "Epoch 1/4\n",
      "1759/1759 [==============================] - 3s 2ms/step - loss: 0.5738 - accuracy: 0.6996 - val_loss: 0.5942 - val_accuracy: 0.6879\n",
      "Epoch 2/4\n",
      "1759/1759 [==============================] - 3s 2ms/step - loss: 0.5336 - accuracy: 0.7335 - val_loss: 0.5648 - val_accuracy: 0.7176\n",
      "Epoch 3/4\n",
      "1759/1759 [==============================] - 3s 2ms/step - loss: 0.5194 - accuracy: 0.7434 - val_loss: 0.5646 - val_accuracy: 0.7101\n",
      "Epoch 4/4\n",
      "1759/1759 [==============================] - 3s 2ms/step - loss: 0.5126 - accuracy: 0.7465 - val_loss: 0.5646 - val_accuracy: 0.7207\n",
      "\n",
      "model id: 16:\n",
      "{'layers': 3, 'layer_size': 256, 'learn_rate': 0.003}\n",
      "Epoch 1/4\n",
      "1759/1759 [==============================] - 3s 2ms/step - loss: 0.5833 - accuracy: 0.6971 - val_loss: 0.5853 - val_accuracy: 0.6983\n",
      "Epoch 2/4\n",
      "1759/1759 [==============================] - 3s 2ms/step - loss: 0.5443 - accuracy: 0.7265 - val_loss: 0.5638 - val_accuracy: 0.7094\n",
      "Epoch 3/4\n",
      "1759/1759 [==============================] - 3s 2ms/step - loss: 0.5292 - accuracy: 0.7373 - val_loss: 0.5876 - val_accuracy: 0.6937\n",
      "Epoch 4/4\n",
      "1759/1759 [==============================] - 3s 2ms/step - loss: 0.5214 - accuracy: 0.7437 - val_loss: 0.5710 - val_accuracy: 0.7202\n",
      "\n",
      "model id: 17:\n",
      "{'layers': 3, 'layer_size': 256, 'learn_rate': 0.01}\n",
      "Epoch 1/4\n",
      "1759/1759 [==============================] - 3s 2ms/step - loss: 0.6069 - accuracy: 0.6768 - val_loss: 0.6096 - val_accuracy: 0.6706\n",
      "Epoch 2/4\n",
      "1759/1759 [==============================] - 3s 2ms/step - loss: 0.5668 - accuracy: 0.7128 - val_loss: 0.6021 - val_accuracy: 0.6730\n",
      "Epoch 3/4\n",
      "1759/1759 [==============================] - 3s 2ms/step - loss: 0.5533 - accuracy: 0.7210 - val_loss: 0.6164 - val_accuracy: 0.6963\n",
      "Epoch 4/4\n",
      "1759/1759 [==============================] - 3s 2ms/step - loss: 0.5377 - accuracy: 0.7317 - val_loss: 0.5641 - val_accuracy: 0.7102\n"
     ]
    }
   ],
   "source": [
    "%rm -rf hparams\n",
    "test_params()"
   ]
  },
  {
   "cell_type": "code",
   "execution_count": 1,
   "id": "0f263e77",
   "metadata": {
    "pycharm": {
     "name": "#%%\n"
    }
   },
   "outputs": [
    {
     "data": {
      "text/plain": "Launching TensorBoard..."
     },
     "metadata": {},
     "output_type": "display_data"
    }
   ],
   "source": [
    "%load_ext tensorboard\n",
    "%tensorboard --logdir hparams"
   ]
  },
  {
   "cell_type": "markdown",
   "id": "5f2d1c3e",
   "metadata": {
    "pycharm": {
     "name": "#%% md\n"
    }
   },
   "source": []
  },
  {
   "cell_type": "code",
   "execution_count": 1,
   "id": "4fd39266",
   "metadata": {
    "pycharm": {
     "name": "#%%\n"
    }
   },
   "outputs": [],
   "source": []
  },
  {
   "cell_type": "code",
   "execution_count": null,
   "id": "c253242e",
   "metadata": {
    "pycharm": {
     "name": "#%%\n"
    }
   },
   "outputs": [],
   "source": []
  },
  {
   "cell_type": "code",
   "execution_count": null,
   "id": "a5bd6708",
   "metadata": {
    "pycharm": {
     "name": "#%%\n"
    }
   },
   "outputs": [],
   "source": []
  }
 ],
 "metadata": {
  "kernelspec": {
   "display_name": "Python 3 (ipykernel)",
   "language": "python",
   "name": "python3"
  },
  "language_info": {
   "codemirror_mode": {
    "name": "ipython",
    "version": 3
   },
   "file_extension": ".py",
   "mimetype": "text/x-python",
   "name": "python",
   "nbconvert_exporter": "python",
   "pygments_lexer": "ipython3",
   "version": "3.8.5"
  }
 },
 "nbformat": 4,
 "nbformat_minor": 5
}